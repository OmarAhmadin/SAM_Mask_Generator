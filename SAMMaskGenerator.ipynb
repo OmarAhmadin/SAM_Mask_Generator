{
 "cells": [
  {
   "attachments": {},
   "cell_type": "markdown",
   "metadata": {},
   "source": [
    "Install the Required Packages and Download the SAM Checkpoint"
   ]
  },
  {
   "cell_type": "code",
   "execution_count": null,
   "metadata": {
    "vscode": {
     "languageId": "plaintext"
    }
   },
   "outputs": [],
   "source": [
    "!pip install 'git+https://github.com/facebookresearch/segment-anything.git'\n",
    "!wget https://dl.fbaipublicfiles.com/segment_anything/sam_vit_h_4b8939.pth\n"
   ]
  },
  {
   "attachments": {},
   "cell_type": "markdown",
   "metadata": {},
   "source": [
    "Import the Required Libraries"
   ]
  },
  {
   "cell_type": "code",
   "execution_count": null,
   "metadata": {
    "vscode": {
     "languageId": "plaintext"
    }
   },
   "outputs": [],
   "source": [
    "import sys\n",
    "import os\n",
    "import cv2\n",
    "from google.colab.patches import cv2_imshow\n",
    "from segment_anything import sam_model_registry, SamAutomaticMaskGenerator\n"
   ]
  },
  {
   "attachments": {},
   "cell_type": "markdown",
   "metadata": {},
   "source": [
    "Define the SAMMaskGenerator Class"
   ]
  },
  {
   "cell_type": "code",
   "execution_count": null,
   "metadata": {
    "vscode": {
     "languageId": "plaintext"
    }
   },
   "outputs": [],
   "source": [
    "class SAMMaskGenerator:\n",
    "    def __init__(self, model_type, checkpoint, device):\n",
    "        self.sam = sam_model_registry[model_type](checkpoint=checkpoint)  # Initialize the SAM model\n",
    "        self.sam.to(device=device)\n",
    "        self.mask_generator = SamAutomaticMaskGenerator(self.sam)  # Initialize the mask generator\n",
    "\n",
    "    def generate_and_save_mask(self, image_path, save_all=False):\n",
    "        # Load the image\n",
    "        image = cv2.imread(image_path)\n",
    "        image = cv2.cvtColor(image, cv2.COLOR_BGR2RGB)\n",
    "\n",
    "        # Generate the masks\n",
    "        results = self.mask_generator.generate(image)\n",
    "\n",
    "        # Sort the results by area in descending order\n",
    "        results.sort(key=lambda x: x['area'], reverse=True)\n",
    "\n",
    "        # Create a folder with the same name as the image\n",
    "        image_name = os.path.splitext(os.path.basename(image_path))[0]\n",
    "        folder_name = f'{image_name}_masks'\n",
    "        os.makedirs(folder_name, exist_ok=True)\n",
    "\n",
    "        if save_all:\n",
    "            # Save all masks\n",
    "            for i, result in enumerate(results):\n",
    "                # Get the binary mask\n",
    "                binary_mask = result['segmentation']\n",
    "\n",
    "                # Convert the binary mask to uint8 format\n",
    "                binary_mask_uint8 = (binary_mask * 255).astype('uint8')\n",
    "\n",
    "                # Save the mask inside the folder\n",
    "                mask_name = f'{folder_name}/mask_{i}.png'\n",
    "                cv2.imwrite(mask_name, binary_mask_uint8)\n",
    "        else:\n",
    "            # Get the binary mask with the largest area\n",
    "            binary_mask = results[0]['segmentation']\n",
    "\n",
    "            # Convert the binary mask to uint8 format\n",
    "            binary_mask_uint8 = (binary_mask * 255).astype('uint8')\n",
    "\n",
    "            # Display the mask\n",
    "            cv2_imshow(binary_mask_uint8)\n",
    "\n",
    "            # Save the mask inside the folder\n",
    "            mask_name = f'{folder_name}/mask_with_largest_area.png'\n",
    "            cv2.imwrite(mask_name, binary_mask_uint8)\n"
   ]
  },
  {
   "attachments": {},
   "cell_type": "markdown",
   "metadata": {},
   "source": [
    "Define the Checkpoint and Model Type"
   ]
  },
  {
   "cell_type": "code",
   "execution_count": null,
   "metadata": {
    "vscode": {
     "languageId": "plaintext"
    }
   },
   "outputs": [],
   "source": [
    "sam_checkpoint = \"sam_vit_h_4b8939.pth\"  # Replace with the path to the downloaded SAM checkpoint\n",
    "model_type = \"vit_h\"\n"
   ]
  },
  {
   "attachments": {},
   "cell_type": "markdown",
   "metadata": {},
   "source": [
    "Initialize the SAMMaskGenerator"
   ]
  },
  {
   "cell_type": "code",
   "execution_count": null,
   "metadata": {
    "vscode": {
     "languageId": "plaintext"
    }
   },
   "outputs": [],
   "source": [
    "mask_generator = SAMMaskGenerator(model_type, sam_checkpoint, 'cuda')\n"
   ]
  },
  {
   "attachments": {},
   "cell_type": "markdown",
   "metadata": {},
   "source": [
    " Generate and Save the Masks (Save All Masks)"
   ]
  },
  {
   "cell_type": "code",
   "execution_count": null,
   "metadata": {
    "vscode": {
     "languageId": "plaintext"
    }
   },
   "outputs": [],
   "source": [
    "image_path = 'path_to_your_image.jpg'  # Replace with the actual path to your image file\n",
    "mask_generator.generate_and_save_mask(image_path, save_all=True)\n"
   ]
  }
 ],
 "metadata": {
  "language_info": {
   "name": "python"
  },
  "orig_nbformat": 4
 },
 "nbformat": 4,
 "nbformat_minor": 2
}
