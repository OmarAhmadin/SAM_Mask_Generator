{
 "cells": [
  {
   "attachments": {},
   "cell_type": "markdown",
   "metadata": {},
   "source": [
    "Install the Required Packages and Download the SAM Checkpoint"
   ]
  },
  {
   "cell_type": "code",
   "execution_count": null,
   "metadata": {
    "vscode": {
     "languageId": "plaintext"
    }
   },
   "outputs": [],
   "source": [
    "!pip install 'git+https://github.com/facebookresearch/segment-anything.git'\n",
    "!wget https://dl.fbaipublicfiles.com/segment_anything/sam_vit_h_4b8939.pth\n"
   ]
  },
  {
   "attachments": {},
   "cell_type": "markdown",
   "metadata": {},
   "source": [
    "Import the Required Libraries"
   ]
  },
  {
   "cell_type": "code",
   "execution_count": null,
   "metadata": {
    "vscode": {
     "languageId": "plaintext"
    }
   },
   "outputs": [],
   "source": [
    "import sys\n",
    "import os\n",
    "import cv2\n",
    "from google.colab.patches import cv2_imshow\n",
    "from segment_anything import sam_model_registry, SamAutomaticMaskGenerator\n"
   ]
  },
  {
   "attachments": {},
   "cell_type": "markdown",
   "metadata": {},
   "source": [
    "Define the SAMMaskGenerator Class"
   ]
  },
  {
   "cell_type": "code",
   "execution_count": null,
   "metadata": {
    "vscode": {
     "languageId": "plaintext"
    }
   },
   "outputs": [],
   "source": [
    "class SAMMaskGenerator:\n",
    "    def __init__(self, model_type, checkpoint, device):\n",
    "        self.sam = sam_model_registry[model_type](checkpoint=checkpoint)  # Initialize the SAM model\n",
    "        self.sam.to(device=device)\n",
    "        self.mask_generator = SamAutomaticMaskGenerator(self.sam)  # Initialize the mask generator\n",
    "\n",
    "    def generate_and_save_mask(self, image_path, save_all=False, save_rgba=False):\n",
    "        # Load the image\n",
    "        image = cv2.imread(image_path)\n",
    "        image = cv2.cvtColor(image, cv2.COLOR_BGR2RGB)\n",
    "\n",
    "        # Generate the masks\n",
    "        results = self.mask_generator.generate(image)\n",
    "\n",
    "        # Sort the results by area in descending order\n",
    "        results.sort(key=lambda x: x['area'], reverse=True)\n",
    "\n",
    "        # Create a folder with the same name as the image\n",
    "        image_name = os.path.splitext(os.path.basename(image_path))[0]\n",
    "        folder_name = f'{image_name}_masks'\n",
    "        os.makedirs(folder_name, exist_ok=True)\n",
    "\n",
    "        if save_all:\n",
    "            for i, result in enumerate(results):\n",
    "                # Get the binary mask\n",
    "                binary_mask = result['segmentation']\n",
    "\n",
    "                # Convert the binary mask to uint8 format\n",
    "                binary_mask_uint8 = (binary_mask * 255).astype('uint8')\n",
    "\n",
    "                # Save the mask inside the folder\n",
    "                mask_name = f'{folder_name}/mask_{i}.png'\n",
    "                cv2.imwrite(mask_name, binary_mask_uint8)\n",
    "\n",
    "                # Generate and save the RGBA image if save_rgba is True\n",
    "                if save_rgba:\n",
    "                    if image.shape[2] == 4:\n",
    "                        # Set the alpha channel to 255 (fully opaque) for the foreground region\n",
    "                        image[..., 3] = np.where(binary_mask_uint8 > 0, 255, 0)\n",
    "                        rgba_image = image\n",
    "                    else:\n",
    "                        # Create an RGBA image with white background\n",
    "                        rgba_image = np.ones((image.shape[0], image.shape[1], 4), dtype=np.uint8) * 255\n",
    "                        rgba_image[..., :3] = image\n",
    "                        rgba_image[..., 3] = binary_mask_uint8\n",
    "\n",
    "                    # Save the RGBA mask inside the folder\n",
    "                    rgba_name = f'{folder_name}/rgba_{i}.png'\n",
    "                    cv2.imwrite(rgba_name, rgba_image)\n",
    "        else:\n",
    "            # Get the binary mask with the largest area\n",
    "            binary_mask = results[0]['segmentation']\n",
    "\n",
    "            # Convert the binary mask to uint8 format\n",
    "            binary_mask_uint8 = (binary_mask * 255).astype('uint8')\n",
    "\n",
    "            # Save the mask alone for the largest area\n",
    "            mask_name = f'{folder_name}/mask_with_largest_area.png'\n",
    "            cv2.imwrite(mask_name, binary_mask_uint8)\n",
    "\n",
    "            if save_rgba:\n",
    "                # Generate and save the RGBA image for the largest area mask\n",
    "                if image.shape[2] == 4:\n",
    "                    # Set the alpha channel to 255 (fully opaque) for the foreground region\n",
    "                    image[..., 3] = np.where(binary_mask_uint8 > 0, 255, 0)\n",
    "                    rgba_image = image\n",
    "                else:\n",
    "                    # Create an RGBA image with white background\n",
    "                    rgba_image = np.ones((image.shape[0], image.shape[1], 4), dtype=np.uint8) * 255\n",
    "                    rgba_image[..., :3] = image\n",
    "                    rgba_image[..., 3] = binary_mask_uint8\n",
    "\n",
    "                # Save the RGBA mask for the largest area mask\n",
    "                rgba_name = f'{folder_name}/rgba_with_largest_area.png'\n",
    "                cv2.imwrite(rgba_name, rgba_image)\n"
   ]
  },
  {
   "attachments": {},
   "cell_type": "markdown",
   "metadata": {},
   "source": [
    "Define the Checkpoint and Model Type"
   ]
  },
  {
   "cell_type": "code",
   "execution_count": null,
   "metadata": {
    "vscode": {
     "languageId": "plaintext"
    }
   },
   "outputs": [],
   "source": [
    "sam_checkpoint = \"sam_vit_h_4b8939.pth\"  # Replace with the path to the downloaded SAM checkpoint\n",
    "model_type = \"vit_h\"\n"
   ]
  },
  {
   "attachments": {},
   "cell_type": "markdown",
   "metadata": {},
   "source": [
    "Initialize the SAMMaskGenerator"
   ]
  },
  {
   "cell_type": "code",
   "execution_count": null,
   "metadata": {
    "vscode": {
     "languageId": "plaintext"
    }
   },
   "outputs": [],
   "source": [
    "mask_generator = SAMMaskGenerator(model_type, sam_checkpoint, 'cuda')\n"
   ]
  },
  {
   "attachments": {},
   "cell_type": "markdown",
   "metadata": {},
   "source": [
    " Generate and Save the Masks (Save All Masks)"
   ]
  },
  {
   "cell_type": "code",
   "execution_count": null,
   "metadata": {
    "vscode": {
     "languageId": "plaintext"
    }
   },
   "outputs": [],
   "source": [
    "image_path = 'path_to_your_image.jpg'  # Replace with the actual path to your image file\n",
    "mask_generator.generate_and_save_mask(image_path, save_all=True)\n"
   ]
  }
 ],
 "metadata": {
  "language_info": {
   "name": "python"
  },
  "orig_nbformat": 4
 },
 "nbformat": 4,
 "nbformat_minor": 2
}
